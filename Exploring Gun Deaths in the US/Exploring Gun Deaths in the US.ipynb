{
 "cells": [
  {
   "cell_type": "markdown",
   "metadata": {},
   "source": [
    "## Open and Read  'Guns.csv'\n",
    "    \n",
    "    It contains information on gun deaths in the US from 2012 to 2014"
   ]
  },
  {
   "cell_type": "code",
   "execution_count": 13,
   "metadata": {
    "collapsed": true
   },
   "outputs": [],
   "source": [
    "import csv"
   ]
  },
  {
   "cell_type": "code",
   "execution_count": 14,
   "metadata": {
    "collapsed": false
   },
   "outputs": [
    {
     "name": "stdout",
     "output_type": "stream",
     "text": [
      "[['', 'year', 'month', 'intent', 'police', 'sex', 'age', 'race', 'hispanic', 'place', 'education'], ['1', '2012', '01', 'Suicide', '0', 'M', '34', 'Asian/Pacific Islander', '100', 'Home', '4'], ['2', '2012', '01', 'Suicide', '0', 'F', '21', 'White', '100', 'Street', '3'], ['3', '2012', '01', 'Suicide', '0', 'M', '60', 'White', '100', 'Other specified', '4'], ['4', '2012', '02', 'Suicide', '0', 'M', '64', 'White', '100', 'Home', '4']]\n"
     ]
    }
   ],
   "source": [
    "f = open(\"guns.csv\",\"r\")\n",
    "guns = csv.reader(f)\n",
    "data = list(guns)\n",
    "print(data[:5])"
   ]
  },
  {
   "cell_type": "markdown",
   "metadata": {},
   "source": [
    "## Extract the header\n",
    "\n",
    "    - assigning header information to 'headers' variable"
   ]
  },
  {
   "cell_type": "code",
   "execution_count": 15,
   "metadata": {
    "collapsed": false
   },
   "outputs": [
    {
     "name": "stdout",
     "output_type": "stream",
     "text": [
      "[['', 'year', 'month', 'intent', 'police', 'sex', 'age', 'race', 'hispanic', 'place', 'education']]\n",
      "[['1', '2012', '01', 'Suicide', '0', 'M', '34', 'Asian/Pacific Islander', '100', 'Home', '4'], ['2', '2012', '01', 'Suicide', '0', 'F', '21', 'White', '100', 'Street', '3'], ['3', '2012', '01', 'Suicide', '0', 'M', '60', 'White', '100', 'Other specified', '4'], ['4', '2012', '02', 'Suicide', '0', 'M', '64', 'White', '100', 'Home', '4'], ['5', '2012', '02', 'Suicide', '0', 'M', '31', 'White', '100', 'Other specified', '2']]\n"
     ]
    }
   ],
   "source": [
    "headers = data[:1]\n",
    "data = data[1:]\n",
    "print(headers)\n",
    "print(data[:5])"
   ]
  },
  {
   "cell_type": "markdown",
   "metadata": {},
   "source": [
    "## Count How many gun deaths occured each year"
   ]
  },
  {
   "cell_type": "code",
   "execution_count": 16,
   "metadata": {
    "collapsed": false
   },
   "outputs": [
    {
     "name": "stdout",
     "output_type": "stream",
     "text": [
      "{'2014': 33599, '2012': 33563, '2013': 33636}\n"
     ]
    }
   ],
   "source": [
    "years = [row[1] for row in data]\n",
    "year_counts = {}\n",
    "for year in years :\n",
    "    if year in year_counts :\n",
    "        year_counts[year] += 1\n",
    "    else :\n",
    "        year_counts[year] = 1\n",
    "print(year_counts)"
   ]
  },
  {
   "cell_type": "markdown",
   "metadata": {},
   "source": [
    "    - We can know that there wasn't many changes 2012 to 2014"
   ]
  },
  {
   "cell_type": "code",
   "execution_count": 19,
   "metadata": {
    "collapsed": false
   },
   "outputs": [
    {
     "name": "stdout",
     "output_type": "stream",
     "text": [
      "[datetime.datetime(2012, 1, 7, 0, 0), datetime.datetime(2012, 1, 7, 0, 0), datetime.datetime(2012, 1, 7, 0, 0), datetime.datetime(2012, 2, 7, 0, 0), datetime.datetime(2012, 2, 7, 0, 0)]\n"
     ]
    }
   ],
   "source": [
    "import datetime\n",
    "dates = [datetime.datetime(year=int(row[1]), month=int(row[2]), day=7) for row in data]\n",
    "print(dates[:5])"
   ]
  },
  {
   "cell_type": "code",
   "execution_count": 21,
   "metadata": {
    "collapsed": false
   },
   "outputs": [
    {
     "name": "stdout",
     "output_type": "stream",
     "text": [
      "{datetime.datetime(2013, 6, 7, 0, 0): 2920, datetime.datetime(2014, 11, 7, 0, 0): 2756, datetime.datetime(2012, 1, 7, 0, 0): 2758, datetime.datetime(2013, 4, 7, 0, 0): 2798, datetime.datetime(2013, 11, 7, 0, 0): 2758, datetime.datetime(2012, 6, 7, 0, 0): 2826, datetime.datetime(2014, 7, 7, 0, 0): 2884, datetime.datetime(2012, 7, 7, 0, 0): 3026, datetime.datetime(2014, 9, 7, 0, 0): 2914, datetime.datetime(2012, 5, 7, 0, 0): 2999, datetime.datetime(2014, 8, 7, 0, 0): 2970, datetime.datetime(2012, 3, 7, 0, 0): 2743, datetime.datetime(2014, 12, 7, 0, 0): 2857, datetime.datetime(2013, 5, 7, 0, 0): 2806, datetime.datetime(2012, 9, 7, 0, 0): 2852, datetime.datetime(2013, 8, 7, 0, 0): 2859, datetime.datetime(2014, 6, 7, 0, 0): 2931, datetime.datetime(2013, 12, 7, 0, 0): 2765, datetime.datetime(2014, 5, 7, 0, 0): 2864, datetime.datetime(2012, 12, 7, 0, 0): 2791, datetime.datetime(2012, 2, 7, 0, 0): 2357, datetime.datetime(2014, 1, 7, 0, 0): 2651, datetime.datetime(2012, 10, 7, 0, 0): 2733, datetime.datetime(2014, 10, 7, 0, 0): 2865, datetime.datetime(2014, 2, 7, 0, 0): 2361, datetime.datetime(2012, 8, 7, 0, 0): 2954, datetime.datetime(2013, 2, 7, 0, 0): 2375, datetime.datetime(2013, 9, 7, 0, 0): 2742, datetime.datetime(2014, 3, 7, 0, 0): 2684, datetime.datetime(2012, 4, 7, 0, 0): 2795, datetime.datetime(2013, 3, 7, 0, 0): 2862, datetime.datetime(2013, 7, 7, 0, 0): 3079, datetime.datetime(2013, 1, 7, 0, 0): 2864, datetime.datetime(2013, 10, 7, 0, 0): 2808, datetime.datetime(2014, 4, 7, 0, 0): 2862, datetime.datetime(2012, 11, 7, 0, 0): 2729}\n"
     ]
    }
   ],
   "source": [
    "date_counts = {}\n",
    "for date in dates :\n",
    "    if date in date_counts :\n",
    "        date_counts[date] += 1\n",
    "    else :\n",
    "        date_counts[date] = 1\n",
    "print(date_counts)"
   ]
  },
  {
   "cell_type": "markdown",
   "metadata": {},
   "source": [
    "## Count sex and race column data"
   ]
  },
  {
   "cell_type": "code",
   "execution_count": 23,
   "metadata": {
    "collapsed": false
   },
   "outputs": [
    {
     "name": "stdout",
     "output_type": "stream",
     "text": [
      "{'F': 14449, 'M': 86349}\n",
      "{'Native American/Native Alaskan': 917, 'Hispanic': 9022, 'White': 66237, 'Black': 23296, 'Asian/Pacific Islander': 1326}\n"
     ]
    }
   ],
   "source": [
    "sex_counts = {}\n",
    "race_counts = {}\n",
    "for row in data :\n",
    "    if row[5] in sex_counts :\n",
    "        sex_counts[row[5]] += 1\n",
    "    else :\n",
    "        sex_counts[row[5]] = 1\n",
    "    if row[7] in race_counts :\n",
    "        race_counts[row[7]] += 1\n",
    "    else :\n",
    "        race_counts[row[7]] = 1\n",
    "print(sex_counts)\n",
    "print(race_counts)"
   ]
  },
  {
   "cell_type": "markdown",
   "metadata": {},
   "source": [
    "Notes\n",
    "    - Vitims of male is greater than of female around 8 times\n",
    "        -Need to check population ratio M/W\n",
    "    - 'White', 'Blank', 'Hispanic' are dominant race done gun accident\n",
    "        - Need to check population based on rasism to know association between race and gun death"
   ]
  },
  {
   "cell_type": "markdown",
   "metadata": {},
   "source": [
    "## To know association between sex and gun death, racism and gun death. Getting census data"
   ]
  },
  {
   "cell_type": "code",
   "execution_count": 24,
   "metadata": {
    "collapsed": false
   },
   "outputs": [
    {
     "name": "stdout",
     "output_type": "stream",
     "text": [
      "[['Id', 'Year', 'Id', 'Sex', 'Id', 'Hispanic Origin', 'Id', 'Id2', 'Geography', 'Total', 'Race Alone - White', 'Race Alone - Hispanic', 'Race Alone - Black or African American', 'Race Alone - American Indian and Alaska Native', 'Race Alone - Asian', 'Race Alone - Native Hawaiian and Other Pacific Islander', 'Two or More Races'], ['cen42010', 'April 1, 2010 Census', 'totsex', 'Both Sexes', 'tothisp', 'Total', '0100000US', '', 'United States', '308745538', '197318956', '44618105', '40250635', '3739506', '15159516', '674625', '6984195']]\n"
     ]
    }
   ],
   "source": [
    "f = open(\"census.csv\",\"r\")\n",
    "census = list(csv.reader(f))\n",
    "print(census)"
   ]
  },
  {
   "cell_type": "code",
   "execution_count": 35,
   "metadata": {
    "collapsed": false
   },
   "outputs": [
    {
     "name": "stdout",
     "output_type": "stream",
     "text": [
      "{'Native American/Native Alaskan': 24.521955573811088, 'Hispanic': 20.220491210910907, 'Asian/Pacific Islander': 8.374309664161762, 'Black': 57.8773477735196, 'White': 33.56849303419181}\n"
     ]
    }
   ],
   "source": [
    "census[1][9:] = list(map(int,census[1][9:]))\n",
    "\n",
    "mapping = {}\n",
    "mapping[\"Asian/Pacific Islander\"] = census[1][census[0].index('Race Alone - Asian')] + census[1][census[0].index('Race Alone - Native Hawaiian and Other Pacific Islander')]\n",
    "mapping[\"Black\"] = census[1][census[0].index('Race Alone - Black or African American')]\n",
    "mapping[\"Hispanic\"] = census[1][census[0].index('Race Alone - Hispanic')]\n",
    "mapping[\"Native American/Native Alaskan\"] = census[1][census[0].index('Race Alone - American Indian and Alaska Native')]\n",
    "mapping[\"White\"] = census[1][census[0].index('Race Alone - White')]\n",
    "\n",
    "race_per_hundredk = {}\n",
    "for key in race_counts :\n",
    "    race_per_hundredk[key] = race_counts[key] / mapping[key] * 100000\n",
    "    \n",
    "print(race_per_hundredk)"
   ]
  },
  {
   "cell_type": "markdown",
   "metadata": {},
   "source": [
    "## Extract only murdered people"
   ]
  },
  {
   "cell_type": "code",
   "execution_count": 53,
   "metadata": {
    "collapsed": false
   },
   "outputs": [
    {
     "name": "stdout",
     "output_type": "stream",
     "text": [
      "{'Native American/Native Alaskan': 326, 'Hispanic': 5634, 'Asian/Pacific Islander': 559, 'Black': 19510, 'White': 9147}\n",
      "\n",
      "{'Native American/Native Alaskan': 8.717729026240365, 'Hispanic': 12.627161104219914, 'Asian/Pacific Islander': 3.530346230970155, 'Black': 48.471284987180944, 'White': 4.6356417981453335}\n"
     ]
    }
   ],
   "source": [
    "intents = [row[3] for row in data]\n",
    "races = [row[7] for row in data]\n",
    "homicide_race_counts = {}\n",
    "for i, race in enumerate(races) :\n",
    "    if intents[i] == \"Homicide\" :\n",
    "        if race in homicide_race_counts :\n",
    "            homicide_race_counts[race] += 1\n",
    "        else :\n",
    "            homicide_race_counts[race] = 1\n",
    "print(homicide_race_counts)\n",
    "print()\n",
    "for race in homicide_race_counts :\n",
    "    homicide_race_counts[race] = homicide_race_counts[race] / mapping[race] * 100000\n",
    "print(homicide_race_counts)"
   ]
  },
  {
   "cell_type": "markdown",
   "metadata": {},
   "source": [
    "- The most murdered race is Black.\n",
    "- Black murdered more than other races at least 6 times.\n",
    "- We can explore \"age, place, education\" too using same way\n",
    "   \n",
    "Recommended extra Work\n",
    "- Figure out the link, if any, between month and homicide rate\n",
    "- Explore the homicide rate by gender.\n",
    "- Explore the rates of other intents, like \"Accidental\", by gender and race.\n",
    "- Find out if gun death rate correlate to location and education.\n",
    "   \n",
    "I dicided to do recommended extra Work."
   ]
  },
  {
   "cell_type": "code",
   "execution_count": 39,
   "metadata": {
    "collapsed": false
   },
   "outputs": [
    {
     "name": "stdout",
     "output_type": "stream",
     "text": [
      "[['1', '2012', '01', 'Suicide', '0', 'M', '34', 'Asian/Pacific Islander', '100', 'Home', '4'], ['2', '2012', '01', 'Suicide', '0', 'F', '21', 'White', '100', 'Street', '3'], ['3', '2012', '01', 'Suicide', '0', 'M', '60', 'White', '100', 'Other specified', '4'], ['4', '2012', '02', 'Suicide', '0', 'M', '64', 'White', '100', 'Home', '4'], ['5', '2012', '02', 'Suicide', '0', 'M', '31', 'White', '100', 'Other specified', '2']]\n"
     ]
    }
   ],
   "source": [
    "print(data[:5])"
   ]
  },
  {
   "cell_type": "markdown",
   "metadata": {},
   "source": [
    "## Figure out the link, if any, between month and homicide rate"
   ]
  },
  {
   "cell_type": "code",
   "execution_count": 42,
   "metadata": {
    "collapsed": false
   },
   "outputs": [
    {
     "name": "stdout",
     "output_type": "stream",
     "text": [
      "{'07': 3269, '11': 2919, '09': 2966, '06': 3130, '03': 2780, '05': 2976, '04': 2845, '08': 3125, '02': 2178, '01': 2829, '12': 3191, '10': 2968}\n"
     ]
    }
   ],
   "source": [
    "months = [row[2] for row in data]\n",
    "intents = [row[3] for row in data]\n",
    "homicide_each_months = {}\n",
    "for i,intent in enumerate(intents) :\n",
    "    if intent == \"Homicide\" :\n",
    "        if months[i] in homicide_each_months :\n",
    "            homicide_each_months[months[i]] += 1\n",
    "        else :\n",
    "            homicide_each_months[months[i]] = 1\n",
    "\n",
    "print(homicide_each_months)"
   ]
  },
  {
   "cell_type": "markdown",
   "metadata": {},
   "source": [
    "- There are only slight changes.\n",
    "- I want to check link between gun death of month and homicide and 'temperature'\n",
    "    - Because, only Feb and Mar have specially lower value than other months. I assume that there are variable related to weather."
   ]
  },
  {
   "cell_type": "markdown",
   "metadata": {},
   "source": [
    "## Explore the homicide rate by gender."
   ]
  },
  {
   "cell_type": "code",
   "execution_count": 45,
   "metadata": {
    "collapsed": false
   },
   "outputs": [
    {
     "name": "stdout",
     "output_type": "stream",
     "text": [
      "             M =          86349                 F =          14449\n",
      "    M_homicide =          29803        F_homicide =           5373\n",
      "  M_homi_ratio =       0.345146      F_homi_ratio =       0.371860\n"
     ]
    }
   ],
   "source": [
    "genders = [row[5] for row in data]\n",
    "M = 0\n",
    "F = 0\n",
    "M_homicide = 0\n",
    "F_homicide = 0\n",
    "\n",
    "for i,intent in enumerate(intents) :\n",
    "    if genders[i] == 'M' :\n",
    "        M += 1\n",
    "        if intent == \"Homicide\" :\n",
    "            M_homicide += 1\n",
    "    if genders[i] == 'F' :\n",
    "        F += 1\n",
    "        if intent == \"Homicide\" :\n",
    "            F_homicide += 1\n",
    "\n",
    "print(\"%14s = %14d    %14s = %14d\" % (\"M\",M,\"F\",F))\n",
    "print(\"%14s = %14d    %14s = %14d\" % (\"M_homicide\", M_homicide, \"F_homicide\", F_homicide))\n",
    "print(\"%14s = %14f    %14s = %14f\" % (\"M_homi_ratio\", M_homicide/M, \"F_homi_ratio\", F_homicide/F))"
   ]
  },
  {
   "cell_type": "markdown",
   "metadata": {},
   "source": [
    "- There is no special difference between Homicide of man and woman"
   ]
  },
  {
   "cell_type": "markdown",
   "metadata": {},
   "source": [
    "## Explore the rates of other intents, like \"Accidental\", by gender and race."
   ]
  },
  {
   "cell_type": "markdown",
   "metadata": {},
   "source": [
    "1. Analyze correpond between \"Accidental\" and gender"
   ]
  },
  {
   "cell_type": "code",
   "execution_count": 49,
   "metadata": {
    "collapsed": false
   },
   "outputs": [
    {
     "name": "stdout",
     "output_type": "stream",
     "text": [
      "{'F': 218, 'M': 1421}\n",
      "0.0164564731496601\n",
      "0.015087549311371028\n"
     ]
    }
   ],
   "source": [
    "gen_Acc = {}\n",
    "for i,intent in enumerate(intents) :\n",
    "    if intent == \"Accidental\" :\n",
    "        if genders[i] in gen_Acc :\n",
    "            gen_Acc[genders[i]] += 1\n",
    "        else :\n",
    "            gen_Acc[genders[i]] = 1\n",
    "\n",
    "print(gen_Acc)\n",
    "print(gen_Acc['M']/M)\n",
    "print(gen_Acc['F']/F)"
   ]
  },
  {
   "cell_type": "markdown",
   "metadata": {},
   "source": [
    "- The portions of accidental deaths between man and woman is not that different as not important as I think\n",
    "### If I can get census data about population of man and woman, I also need to analyze with them"
   ]
  },
  {
   "cell_type": "markdown",
   "metadata": {},
   "source": [
    "2. Analyze correpond between \"Accidental\" and race"
   ]
  },
  {
   "cell_type": "code",
   "execution_count": 52,
   "metadata": {
    "collapsed": false
   },
   "outputs": [
    {
     "name": "stdout",
     "output_type": "stream",
     "text": [
      "{'Native American/Native Alaskan': 22, 'Hispanic': 145, 'Asian/Pacific Islander': 12, 'Black': 328, 'White': 1132}\n",
      "\n",
      "{'Native American/Native Alaskan': 0.5883130017708221, 'Hispanic': 0.3249801846133985, 'White': 0.5736904466492313, 'Black': 0.814893976206835, 'Asian/Pacific Islander': 0.07578560782046845}\n"
     ]
    }
   ],
   "source": [
    "race_Acc = {}\n",
    "for i, race in enumerate(races) :\n",
    "    if intents[i] == \"Accidental\" :\n",
    "        if race in race_Acc :\n",
    "            race_Acc[race] += 1\n",
    "        else :\n",
    "            race_Acc[race] = 1\n",
    "\n",
    "race_Acc_hundredk = {}\n",
    "for key in race_Acc :\n",
    "    race_Acc_hundredk[key] = race_Acc[key] / mapping[key] * 100000\n",
    "\n",
    "print(race_Acc)\n",
    "print()\n",
    "print(race_Acc_hundredk)"
   ]
  },
  {
   "cell_type": "markdown",
   "metadata": {},
   "source": [
    "- deaths of accident is much smaller than homicid.\n",
    "- I also can analyze ratio by each intent"
   ]
  },
  {
   "cell_type": "markdown",
   "metadata": {},
   "source": [
    "## Find out if gun death rate correlate to location and education."
   ]
  },
  {
   "cell_type": "code",
   "execution_count": 57,
   "metadata": {
    "collapsed": false
   },
   "outputs": [
    {
     "name": "stdout",
     "output_type": "stream",
     "text": [
      "{'Trade/service area': 3439, 'Home': 60486, 'School/instiution': 671, 'Other specified': 13751, 'Sports': 128, 'Industrial/construction': 248, 'Farm': 470, 'Street': 11151, 'Other unspecified': 8867, 'NA': 1384, 'Residential institution': 203}\n"
     ]
    }
   ],
   "source": [
    "places = [row[9] for row in data]\n",
    "place_counts = {}\n",
    "for place in places :\n",
    "    if place in place_counts :\n",
    "        place_counts[place] += 1\n",
    "    else :\n",
    "        place_counts[place] = 1\n",
    "print(place_counts)\n"
   ]
  },
  {
   "cell_type": "markdown",
   "metadata": {},
   "source": [
    "- Home is dominant place occured deaths\n",
    "    - I can set subject to analyze in link between home and homicide and gender"
   ]
  },
  {
   "cell_type": "markdown",
   "metadata": {},
   "source": [
    "## Education and deaths"
   ]
  },
  {
   "cell_type": "markdown",
   "metadata": {},
   "source": [
    "- educational status of the victim.\n",
    "    - 1 : Less than High School\n",
    "    - 2 : Graduated from High School or equivalent\n",
    "    - 3 : Some College\n",
    "    - 4 : At least graduated from College\n",
    "    - 5 : Not available"
   ]
  },
  {
   "cell_type": "code",
   "execution_count": 58,
   "metadata": {
    "collapsed": false
   },
   "outputs": [
    {
     "name": "stdout",
     "output_type": "stream",
     "text": [
      "{'4': 12946, '3': 21680, '1': 21823, '2': 42927, '5': 1369, 'NA': 53}\n"
     ]
    }
   ],
   "source": [
    "educations = [row[10] for row in data]\n",
    "education_counts = {}\n",
    "for edu in educations :\n",
    "    if edu in education_counts :\n",
    "        education_counts[edu] += 1\n",
    "    else :\n",
    "        education_counts[edu] = 1\n",
    "print(education_counts)\n"
   ]
  },
  {
   "cell_type": "markdown",
   "metadata": {},
   "source": [
    "- If I get more meaningful data, I need to analyze using entire population of each education level"
   ]
  }
 ],
 "metadata": {
  "kernelspec": {
   "display_name": "Python 3",
   "language": "python",
   "name": "python3"
  },
  "language_info": {
   "codemirror_mode": {
    "name": "ipython",
    "version": 3
   },
   "file_extension": ".py",
   "mimetype": "text/x-python",
   "name": "python",
   "nbconvert_exporter": "python",
   "pygments_lexer": "ipython3",
   "version": "3.4.3"
  }
 },
 "nbformat": 4,
 "nbformat_minor": 0
}
